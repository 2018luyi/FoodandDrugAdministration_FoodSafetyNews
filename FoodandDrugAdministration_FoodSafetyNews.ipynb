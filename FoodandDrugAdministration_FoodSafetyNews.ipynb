{
  "nbformat": 4,
  "nbformat_minor": 0,
  "metadata": {
    "colab": {
      "name": "FoodandDrugAdministration_FoodSafetyNews.ipynb",
      "provenance": [],
      "collapsed_sections": [],
      "authorship_tag": "ABX9TyMwKEIblCNK92bmX28Gm3wR",
      "include_colab_link": true
    },
    "kernelspec": {
      "name": "python3",
      "display_name": "Python 3"
    }
  },
  "cells": [
    {
      "cell_type": "markdown",
      "metadata": {
        "id": "view-in-github",
        "colab_type": "text"
      },
      "source": [
        "<a href=\"https://colab.research.google.com/github/kevin840505/FoodandDrugAdministration_FoodSafetyNews/blob/main/FoodandDrugAdministration_FoodSafetyNews.ipynb\" target=\"_parent\"><img src=\"https://colab.research.google.com/assets/colab-badge.svg\" alt=\"Open In Colab\"/></a>"
      ]
    },
    {
      "cell_type": "code",
      "metadata": {
        "id": "CIQuAPmkSEl_",
        "outputId": "87578df9-a516-4d74-b232-74591d309779",
        "colab": {
          "base_uri": "https://localhost:8080/"
        }
      },
      "source": [
        "import requests\n",
        "from bs4 import BeautifulSoup\n",
        "import pandas as pd\n",
        "\n",
        "#利用requsets拿到整頁的網路資料\n",
        "def get_page(url):\n",
        "  session_request = requests.session()\n",
        "  response = session_request.get(url)\n",
        "  return response.text\n",
        "\n",
        "#使用BS拿我想要的資料\n",
        "def get_data(dom):\n",
        "  soup = BeautifulSoup(dom, 'html.parser')\n",
        "  elements = soup.find_all('td', class_='txt_C')\n",
        "  return elements\n",
        "\n",
        "#分析部分+煥頁\n",
        "data = []\n",
        "url1 = 'https://consumer.fda.gov.tw//News/List.aspx?nodeID=10&code=1010&cs=%E6%B5%81%E9%80%9A%E6%AA%A2%E9%A9%97&c=N01&p={}'\n",
        "\n",
        "for i in range(1,91):\n",
        "  page = get_page(url.format(str(i)))\n",
        "  all_data_elements_raw = get_data(page)\n",
        "  all_data_elements_resources = all_data_elements_raw[1::3]\n",
        "  for all_data_elements_resource in all_data_elements_resources:\n",
        "    data.append(all_data_elements_resource.text)\n",
        "\n",
        "\n",
        "print('以下是2011年11月以來台灣五都衛生局抽驗食品之次數')\n",
        "print('臺北市:'+str(data.count('臺北市政府衛生局'))+'次')\n",
        "print('新北市:'+str(data.count('新北市政府衛生局'))+'次')\n",
        "print('台中市:'+str(data.count('台中市政府衛生局'))+'次')\n",
        "print('台南市:'+str(data.count('台南市政府衛生局'))+'次')\n",
        "print('高雄市:'+str(data.count('高雄市政府衛生局'))+'次')"
      ],
      "execution_count": null,
      "outputs": [
        {
          "output_type": "stream",
          "text": [
            "以下是有公告以來台灣五都抽驗食品之次數\n",
            "臺北市:51次\n",
            "新北市:49次\n",
            "台中市:30次\n",
            "台南市:32次\n",
            "高雄市:51次\n"
          ],
          "name": "stdout"
        }
      ]
    }
  ]
}